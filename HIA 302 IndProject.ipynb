{
 "cells": [
  {
   "cell_type": "code",
   "execution_count": null,
   "id": "84764ad8",
   "metadata": {},
   "outputs": [],
   "source": [
    "#1 Demonstrate different ways to convert the horse-colic.txt file to horsecolic.csv."
   ]
  },
  {
   "cell_type": "code",
   "execution_count": 2,
   "id": "7b4b872c",
   "metadata": {},
   "outputs": [
    {
     "name": "stdout",
     "output_type": "stream",
     "text": [
      "Converted 'C:\\Users\\HP-Pavilion\\Desktop\\Sem 1\\Health Data Collection 302\\Assignment\\horse-colic.txt' to 'C:\\Users\\HP-Pavilion\\Desktop\\Sem 1\\Health Data Collection 302\\Assignment\\horsecolic.csv'\n"
     ]
    }
   ],
   "source": [
    "# Method 1\n",
    "import pandas as pd\n",
    "\n",
    "# Specify the file paths\n",
    "txt_file_path = \"C:\\\\Users\\\\HP-Pavilion\\\\Desktop\\\\Sem 1\\\\Health Data Collection 302\\\\Assignment\\horse-colic.txt\"\n",
    "csv_file_path = 'C:\\\\Users\\\\HP-Pavilion\\\\Desktop\\\\Sem 1\\\\Health Data Collection 302\\\\Assignment\\\\horsecolic.csv'\n",
    "\n",
    "# Read the TXT file into a DataFrame without specifying index_col and header\n",
    "df = pd.read_csv(txt_file_path, delimiter=',', header=None, index_col=None)\n",
    "\n",
    "# Save the DataFrame to a CSV file\n",
    "df.to_csv(csv_file_path, index=None, header=None)\n",
    "\n",
    "print(f\"Converted '{txt_file_path}' to '{csv_file_path}'\")\n"
   ]
  },
  {
   "cell_type": "code",
   "execution_count": 3,
   "id": "d241954b",
   "metadata": {},
   "outputs": [
    {
     "name": "stdout",
     "output_type": "stream",
     "text": [
      "Converted 'C:\\Users\\HP-Pavilion\\Desktop\\Sem 1\\Health Data Collection 302\\Assignment\\horse-colic.txt' to 'C:\\Users\\HP-Pavilion\\Desktop\\Sem 1\\Health Data Collection 302\\Assignment\\horsecolic.csv'\n"
     ]
    }
   ],
   "source": [
    "#Method 2\n",
    "import csv\n",
    "\n",
    "# Specify the file paths\n",
    "txt_file_path =  \"C:\\\\Users\\\\HP-Pavilion\\\\Desktop\\\\Sem 1\\\\Health Data Collection 302\\\\Assignment\\horse-colic.txt\"\n",
    "csv_file_path = 'C:\\\\Users\\\\HP-Pavilion\\\\Desktop\\\\Sem 1\\\\Health Data Collection 302\\\\Assignment\\\\horsecolic.csv'\n",
    "\n",
    "# Read the TXT file and write to a CSV file without specifying index_col and header\n",
    "with open(txt_file_path, 'r') as infile, open(csv_file_path, 'w', newline='') as outfile:\n",
    "    reader = csv.reader(infile, delimiter=',')\n",
    "    writer = csv.writer(outfile)\n",
    "\n",
    "    for row in reader:\n",
    "        writer.writerow(row)\n",
    "\n",
    "print(f\"Converted '{txt_file_path}' to '{csv_file_path}'\")\n"
   ]
  },
  {
   "cell_type": "code",
   "execution_count": null,
   "id": "cdb78385",
   "metadata": {},
   "outputs": [],
   "source": [
    "#2 Demonstrate that the csv file can read in Jupyter Notebook, and the dataset remains the same as the raw dataset"
   ]
  },
  {
   "cell_type": "code",
   "execution_count": 5,
   "id": "5cbc0fcf",
   "metadata": {},
   "outputs": [
    {
     "data": {
      "text/html": [
       "<div>\n",
       "<style scoped>\n",
       "    .dataframe tbody tr th:only-of-type {\n",
       "        vertical-align: middle;\n",
       "    }\n",
       "\n",
       "    .dataframe tbody tr th {\n",
       "        vertical-align: top;\n",
       "    }\n",
       "\n",
       "    .dataframe thead th {\n",
       "        text-align: right;\n",
       "    }\n",
       "</style>\n",
       "<table border=\"1\" class=\"dataframe\">\n",
       "  <thead>\n",
       "    <tr style=\"text-align: right;\">\n",
       "      <th></th>\n",
       "      <th>0</th>\n",
       "      <th>1</th>\n",
       "      <th>2</th>\n",
       "      <th>3</th>\n",
       "      <th>4</th>\n",
       "      <th>5</th>\n",
       "      <th>6</th>\n",
       "      <th>7</th>\n",
       "      <th>8</th>\n",
       "      <th>9</th>\n",
       "      <th>...</th>\n",
       "      <th>18</th>\n",
       "      <th>19</th>\n",
       "      <th>20</th>\n",
       "      <th>21</th>\n",
       "      <th>22</th>\n",
       "      <th>23</th>\n",
       "      <th>24</th>\n",
       "      <th>25</th>\n",
       "      <th>26</th>\n",
       "      <th>27</th>\n",
       "    </tr>\n",
       "  </thead>\n",
       "  <tbody>\n",
       "    <tr>\n",
       "      <th>0</th>\n",
       "      <td>2</td>\n",
       "      <td>1</td>\n",
       "      <td>530101</td>\n",
       "      <td>38.50</td>\n",
       "      <td>66</td>\n",
       "      <td>28</td>\n",
       "      <td>3</td>\n",
       "      <td>3</td>\n",
       "      <td>?</td>\n",
       "      <td>2</td>\n",
       "      <td>...</td>\n",
       "      <td>45.00</td>\n",
       "      <td>8.40</td>\n",
       "      <td>?</td>\n",
       "      <td>?</td>\n",
       "      <td>2</td>\n",
       "      <td>2</td>\n",
       "      <td>11300</td>\n",
       "      <td>0</td>\n",
       "      <td>0</td>\n",
       "      <td>2</td>\n",
       "    </tr>\n",
       "    <tr>\n",
       "      <th>1</th>\n",
       "      <td>1</td>\n",
       "      <td>1</td>\n",
       "      <td>534817</td>\n",
       "      <td>39.2</td>\n",
       "      <td>88</td>\n",
       "      <td>20</td>\n",
       "      <td>?</td>\n",
       "      <td>?</td>\n",
       "      <td>4</td>\n",
       "      <td>1</td>\n",
       "      <td>...</td>\n",
       "      <td>50</td>\n",
       "      <td>85</td>\n",
       "      <td>2</td>\n",
       "      <td>2</td>\n",
       "      <td>3</td>\n",
       "      <td>2</td>\n",
       "      <td>2208</td>\n",
       "      <td>0</td>\n",
       "      <td>0</td>\n",
       "      <td>2</td>\n",
       "    </tr>\n",
       "    <tr>\n",
       "      <th>2</th>\n",
       "      <td>2</td>\n",
       "      <td>1</td>\n",
       "      <td>530334</td>\n",
       "      <td>38.30</td>\n",
       "      <td>40</td>\n",
       "      <td>24</td>\n",
       "      <td>1</td>\n",
       "      <td>1</td>\n",
       "      <td>3</td>\n",
       "      <td>1</td>\n",
       "      <td>...</td>\n",
       "      <td>33.00</td>\n",
       "      <td>6.70</td>\n",
       "      <td>?</td>\n",
       "      <td>?</td>\n",
       "      <td>1</td>\n",
       "      <td>2</td>\n",
       "      <td>0</td>\n",
       "      <td>0</td>\n",
       "      <td>0</td>\n",
       "      <td>1</td>\n",
       "    </tr>\n",
       "    <tr>\n",
       "      <th>3</th>\n",
       "      <td>1</td>\n",
       "      <td>9</td>\n",
       "      <td>5290409</td>\n",
       "      <td>39.10</td>\n",
       "      <td>164</td>\n",
       "      <td>84</td>\n",
       "      <td>4</td>\n",
       "      <td>1</td>\n",
       "      <td>6</td>\n",
       "      <td>2</td>\n",
       "      <td>...</td>\n",
       "      <td>48.00</td>\n",
       "      <td>7.20</td>\n",
       "      <td>3</td>\n",
       "      <td>5.30</td>\n",
       "      <td>2</td>\n",
       "      <td>1</td>\n",
       "      <td>2208</td>\n",
       "      <td>0</td>\n",
       "      <td>0</td>\n",
       "      <td>1</td>\n",
       "    </tr>\n",
       "    <tr>\n",
       "      <th>4</th>\n",
       "      <td>2</td>\n",
       "      <td>1</td>\n",
       "      <td>530255</td>\n",
       "      <td>37.30</td>\n",
       "      <td>104</td>\n",
       "      <td>35</td>\n",
       "      <td>?</td>\n",
       "      <td>?</td>\n",
       "      <td>6</td>\n",
       "      <td>2</td>\n",
       "      <td>...</td>\n",
       "      <td>74.00</td>\n",
       "      <td>7.40</td>\n",
       "      <td>?</td>\n",
       "      <td>?</td>\n",
       "      <td>2</td>\n",
       "      <td>2</td>\n",
       "      <td>4300</td>\n",
       "      <td>0</td>\n",
       "      <td>0</td>\n",
       "      <td>2</td>\n",
       "    </tr>\n",
       "  </tbody>\n",
       "</table>\n",
       "<p>5 rows × 28 columns</p>\n",
       "</div>"
      ],
      "text/plain": [
       "  0   1        2      3    4   5  6  7  8  9   ...     18    19 20    21 22  \\\n",
       "0  2   1   530101  38.50   66  28  3  3  ?  2  ...  45.00  8.40  ?     ?  2   \n",
       "1  1   1   534817   39.2   88  20  ?  ?  4  1  ...     50    85  2     2  3   \n",
       "2  2   1   530334  38.30   40  24  1  1  3  1  ...  33.00  6.70  ?     ?  1   \n",
       "3  1   9  5290409  39.10  164  84  4  1  6  2  ...  48.00  7.20  3  5.30  2   \n",
       "4  2   1   530255  37.30  104  35  ?  ?  6  2  ...  74.00  7.40  ?     ?  2   \n",
       "\n",
       "  23     24 25 26 27  \n",
       "0  2  11300  0  0  2  \n",
       "1  2   2208  0  0  2  \n",
       "2  2      0  0  0  1  \n",
       "3  1   2208  0  0  1  \n",
       "4  2   4300  0  0  2  \n",
       "\n",
       "[5 rows x 28 columns]"
      ]
     },
     "execution_count": 5,
     "metadata": {},
     "output_type": "execute_result"
    }
   ],
   "source": [
    "# Specify the CSV file path\n",
    "csv_file_path = 'C:\\\\Users\\\\HP-Pavilion\\\\Desktop\\\\Sem 1\\\\Health Data Collection 302\\\\Assignment\\\\horsecolic.csv'\n",
    "\n",
    "# Read the CSV file into a DataFrame\n",
    "df_read = pd.read_csv(csv_file_path, header=None, index_col=None)\n",
    "\n",
    "# Display the first few rows of the DataFrame\n",
    "df_read.head()\n"
   ]
  },
  {
   "cell_type": "code",
   "execution_count": null,
   "id": "63f8040e",
   "metadata": {},
   "outputs": [],
   "source": [
    "#3 Replace the missing values (i.e. with “?”) with a NaN (Not a Number) value in a loaded dataset using Python.\n",
    "#4 Save the latest dataset with NaN as horse-colic-with-NaN.csv and ensurethe data frame’s row number is not saved into the csv file."
   ]
  },
  {
   "cell_type": "code",
   "execution_count": 10,
   "id": "3928891c",
   "metadata": {},
   "outputs": [
    {
     "name": "stdout",
     "output_type": "stream",
     "text": [
      "Dataset with NaN values saved to 'C:\\Users\\HP-Pavilion\\Desktop\\Sem 1\\Health Data Collection 302\\Assignment\\horse-colic-with-NaN.csv'\n"
     ]
    }
   ],
   "source": [
    "import pandas as pd\n",
    "\n",
    "# Specify the CSV file path\n",
    "csv_file_path = 'C:\\\\Users\\\\HP-Pavilion\\\\Desktop\\\\Sem 1\\\\Health Data Collection 302\\\\Assignment\\\\horsecolic.csv'\n",
    "\n",
    "# Read the CSV file into a DataFrame\n",
    "df = pd.read_csv(csv_file_path, header=None, index_col=None)\n",
    "\n",
    "# Replace \"?\" with NaN\n",
    "df.replace('?', pd.NA, inplace=True)\n",
    "\n",
    "# Save the DataFrame with NaN values to a new CSV file\n",
    "csv_with_nan_file_path = 'C:\\\\Users\\\\HP-Pavilion\\\\Desktop\\\\Sem 1\\\\Health Data Collection 302\\\\Assignment\\\\horse-colic-with-NaN.csv'\n",
    "df.to_csv(csv_with_nan_file_path, index=None, header=None)\n",
    "\n",
    "print(f\"Dataset with NaN values saved to '{csv_with_nan_file_path}'\")\n"
   ]
  },
  {
   "cell_type": "code",
   "execution_count": 14,
   "id": "1f396b6e",
   "metadata": {},
   "outputs": [
    {
     "name": "stdout",
     "output_type": "stream",
     "text": [
      "<class 'pandas.core.frame.DataFrame'>\n",
      "RangeIndex: 300 entries, 0 to 299\n",
      "Data columns (total 28 columns):\n",
      " #   Column  Non-Null Count  Dtype  \n",
      "---  ------  --------------  -----  \n",
      " 0   0       299 non-null    float64\n",
      " 1   1       300 non-null    int64  \n",
      " 2   2       300 non-null    int64  \n",
      " 3   3       240 non-null    float64\n",
      " 4   4       276 non-null    float64\n",
      " 5   5       242 non-null    float64\n",
      " 6   6       244 non-null    float64\n",
      " 7   7       231 non-null    float64\n",
      " 8   8       253 non-null    float64\n",
      " 9   9       268 non-null    float64\n",
      " 10  10      245 non-null    float64\n",
      " 11  11      256 non-null    float64\n",
      " 12  12      244 non-null    float64\n",
      " 13  13      196 non-null    float64\n",
      " 14  14      194 non-null    float64\n",
      " 15  15      53 non-null     float64\n",
      " 16  16      198 non-null    float64\n",
      " 17  17      182 non-null    float64\n",
      " 18  18      271 non-null    float64\n",
      " 19  19      267 non-null    float64\n",
      " 20  20      135 non-null    float64\n",
      " 21  21      102 non-null    float64\n",
      " 22  22      299 non-null    float64\n",
      " 23  23      300 non-null    int64  \n",
      " 24  24      300 non-null    int64  \n",
      " 25  25      300 non-null    int64  \n",
      " 26  26      300 non-null    int64  \n",
      " 27  27      300 non-null    int64  \n",
      "dtypes: float64(21), int64(7)\n",
      "memory usage: 65.8 KB\n",
      "Total NaN values in the DataFrame: 1605\n"
     ]
    }
   ],
   "source": [
    "# Read the CSV file into a DataFrame\n",
    "df_with_nan = pd.read_csv(csv_with_nan_file_path, header=None, index_col=None)\n",
    "\n",
    "# Display the first few rows of the DataFrame\n",
    "df_with_nan.head()\n",
    "df_with_nan.info()\n",
    "# Count total NaN values in the DataFrame\n",
    "total_nan_count = df_with_nan.isna().sum().sum()\n",
    "\n",
    "print(f\"Total NaN values in the DataFrame: {total_nan_count}\")"
   ]
  },
  {
   "cell_type": "code",
   "execution_count": null,
   "id": "e9531f7d",
   "metadata": {},
   "outputs": [],
   "source": [
    "#5 Rename the header by following the description file (horse-colic.names) with not more than 10 characters in the header title\n",
    "#6 Save the latest dataset with header title as horse-colic-with-title.csv and ensure the data frame’s row number is not saved into the csv file"
   ]
  },
  {
   "cell_type": "code",
   "execution_count": 16,
   "id": "1b6dd185",
   "metadata": {},
   "outputs": [
    {
     "name": "stdout",
     "output_type": "stream",
     "text": [
      "Dataset with header titles saved to 'C:\\Users\\HP-Pavilion\\Desktop\\Sem 1\\Health Data Collection 302\\Assignment\\horse-colic-with-title.csv'\n"
     ]
    }
   ],
   "source": [
    "import pandas as pd\n",
    "\n",
    "# Specify the CSV file path with NaN values\n",
    "csv_with_nan_file_path = 'C:\\\\Users\\\\HP-Pavilion\\\\Desktop\\\\Sem 1\\\\Health Data Collection 302\\\\Assignment\\\\horse-colic-with-NaN.csv'\n",
    "# Read the CSV file into a DataFrame\n",
    "df_with_nan = pd.read_csv(csv_with_nan_file_path, header=None)\n",
    "\n",
    "# Define a dictionary for header titles based on the descriptions\n",
    "header_titles = {\n",
    "    0: 'surgery',\n",
    "    1: 'Age',\n",
    "    2: 'HospitalNo',\n",
    "    3: 'RectalTemp',\n",
    "    4: 'Pulse',\n",
    "    5: 'RespRate',\n",
    "    6: 'TempExtrem',\n",
    "    7: 'PeriPulse',\n",
    "    8: 'MucousMemb',\n",
    "    9: 'CapRefilTm',\n",
    "    10: 'Pain',\n",
    "    11: 'Peristals',\n",
    "    12: 'AbdDistend',\n",
    "    13: 'NasoTube',\n",
    "    14: 'NasoReflux',\n",
    "    15: 'NasReflPH',\n",
    "    16: 'RectFeces',\n",
    "    17: 'Abdomen',\n",
    "    18: 'PkCellVol',\n",
    "    19: 'TotProt',\n",
    "    20: 'AbdocenApp',\n",
    "    21: 'AbdCenTPro',\n",
    "    22: 'Outcome',\n",
    "    23: 'SurgLesion',\n",
    "    24: 'TypeLesion1',\n",
    "    25: 'TypeLesion2',\n",
    "    26: 'TypeLesion3',\n",
    "    27: 'cp_data'\n",
    "}\n",
    "\n",
    "# Rename the columns\n",
    "df_with_nan.columns = [header_titles.get(col, f'Col_{col}') for col in df_with_nan.columns]\n",
    "\n",
    "# Save the DataFrame with header titles to a new CSV file\n",
    "csv_with_title_file_path = 'C:\\\\Users\\\\HP-Pavilion\\\\Desktop\\\\Sem 1\\\\Health Data Collection 302\\\\Assignment\\\\horse-colic-with-title.csv'\n",
    "df_with_nan.to_csv(csv_with_title_file_path, index=None, header=True)\n",
    "\n",
    "print(f\"Dataset with header titles saved to '{csv_with_title_file_path}'\")\n"
   ]
  },
  {
   "cell_type": "code",
   "execution_count": null,
   "id": "8f0d322c",
   "metadata": {},
   "outputs": [],
   "source": [
    "#7 Load the horse-colic-with-title.csv file and display a list of total NaN at each column in the dataset."
   ]
  },
  {
   "cell_type": "code",
   "execution_count": 17,
   "id": "0e4e3338",
   "metadata": {},
   "outputs": [
    {
     "name": "stdout",
     "output_type": "stream",
     "text": [
      "NaN Values per Column:\n",
      "surgery          1\n",
      "Age              0\n",
      "HospitalNo       0\n",
      "RectalTemp      60\n",
      "Pulse           24\n",
      "RespRate        58\n",
      "TempExtrem      56\n",
      "PeriPulse       69\n",
      "MucousMemb      47\n",
      "CapRefilTm      32\n",
      "Pain            55\n",
      "Peristals       44\n",
      "AbdDistend      56\n",
      "NasoTube       104\n",
      "NasoReflux     106\n",
      "NasReflPH      247\n",
      "RectFeces      102\n",
      "Abdomen        118\n",
      "PkCellVol       29\n",
      "TotProt         33\n",
      "AbdocenApp     165\n",
      "AbdCenTPro     198\n",
      "Outcome          1\n",
      "SurgLesion       0\n",
      "TypeLesion1      0\n",
      "TypeLesion2      0\n",
      "TypeLesion3      0\n",
      "cp_data          0\n",
      "dtype: int64\n"
     ]
    }
   ],
   "source": [
    "\n",
    "\n",
    "# Read the CSV file into a DataFrame\n",
    "df_with_title = pd.read_csv(csv_with_title_file_path)\n",
    "\n",
    "# Display the total NaN values in each column\n",
    "nan_count_per_column = df_with_title.isna().sum()\n",
    "print(\"NaN Values per Column:\")\n",
    "print(nan_count_per_column)\n"
   ]
  },
  {
   "cell_type": "code",
   "execution_count": null,
   "id": "e0f913fd",
   "metadata": {},
   "outputs": [],
   "source": [
    "#8 Visualise the total NaN at each column in the dataset with a bar chart and set the colour to ‘blue’ using Matplotlib library."
   ]
  },
  {
   "cell_type": "code",
   "execution_count": 18,
   "id": "dbbd2195",
   "metadata": {},
   "outputs": [
    {
     "data": {
      "image/png": "[encoded data removed]",
      "text/plain": [
       "<Figure size 1000x600 with 1 Axes>"
      ]
     },
     "metadata": {},
     "output_type": "display_data"
    }
   ],
   "source": [
    "import matplotlib.pyplot as plt\n",
    "# Create a bar chart\n",
    "plt.figure(figsize=(10, 6))\n",
    "nan_count_per_column.plot(kind='bar', color='blue')\n",
    "plt.title('Total NaN Values per Column')\n",
    "plt.xlabel('Columns')\n",
    "plt.ylabel('Total NaN Values')\n",
    "plt.show()"
   ]
  },
  {
   "cell_type": "code",
   "execution_count": null,
   "id": "d3303761",
   "metadata": {},
   "outputs": [],
   "source": [
    "#9 Retrieve the datatypes (e.g. float, integer, object, string etc.) for the dataset."
   ]
  },
  {
   "cell_type": "code",
   "execution_count": 19,
   "id": "773ed39a",
   "metadata": {},
   "outputs": [
    {
     "name": "stdout",
     "output_type": "stream",
     "text": [
      "Data Types per Column:\n",
      "surgery        float64\n",
      "Age              int64\n",
      "HospitalNo       int64\n",
      "RectalTemp     float64\n",
      "Pulse          float64\n",
      "RespRate       float64\n",
      "TempExtrem     float64\n",
      "PeriPulse      float64\n",
      "MucousMemb     float64\n",
      "CapRefilTm     float64\n",
      "Pain           float64\n",
      "Peristals      float64\n",
      "AbdDistend     float64\n",
      "NasoTube       float64\n",
      "NasoReflux     float64\n",
      "NasReflPH      float64\n",
      "RectFeces      float64\n",
      "Abdomen        float64\n",
      "PkCellVol      float64\n",
      "TotProt        float64\n",
      "AbdocenApp     float64\n",
      "AbdCenTPro     float64\n",
      "Outcome        float64\n",
      "SurgLesion       int64\n",
      "TypeLesion1      int64\n",
      "TypeLesion2      int64\n",
      "TypeLesion3      int64\n",
      "cp_data          int64\n",
      "dtype: object\n"
     ]
    }
   ],
   "source": [
    "# Retrieve the data types for each column\n",
    "data_types_per_column = df_with_title.dtypes\n",
    "\n",
    "# Display the data types\n",
    "print(\"Data Types per Column:\")\n",
    "print(data_types_per_column)"
   ]
  },
  {
   "cell_type": "code",
   "execution_count": null,
   "id": "9dd28679",
   "metadata": {},
   "outputs": [],
   "source": [
    "#10 In this dataset, will it be a good idea to delete/drop out the NaN rows? Justify your answer."
   ]
  },
  {
   "cell_type": "code",
   "execution_count": null,
   "id": "7878a3b2",
   "metadata": {},
   "outputs": [],
   "source": [
    "#11 Read and evaluate the following code in Figure 1. What method is the code using toreduce the missing value from 1605 to 0? Justify your answer.\n",
    "#12 Fill out the inline comments marked with hashtags ‘#’ in lines 8, 11, 17, 20, 22 and 26.Include the missing codes in lines 5 and 6."
   ]
  },
  {
   "cell_type": "code",
   "execution_count": 21,
   "id": "a7f25dce",
   "metadata": {},
   "outputs": [
    {
     "name": "stdout",
     "output_type": "stream",
     "text": [
      "Missing before imputation: 1605\n",
      "Missing after imputation: 0\n"
     ]
    }
   ],
   "source": [
    "from numpy import isnan\n",
    "from pandas import read_csv\n",
    "from sklearn.impute import SimpleImputer\n",
    "\n",
    "# Load dataset and replace '?' with NaN\n",
    "dataframe = read_csv(\"C:\\\\Users\\\\HP-Pavilion\\\\Desktop\\\\Sem 1\\\\Health Data Collection 302\\\\Assignment\\horse-colic.txt\", header=None, na_values=\"?\")\n",
    " # Extract NumPy array from the DataFrame\n",
    "data = dataframe.values\n",
    "\n",
    "# Separate features (X) and target variable (y)\n",
    "totalCol = data.shape[1]\n",
    "ix = [i for i in range(totalCol) if i != 23]\n",
    "X = data[:, ix]\n",
    "y = data[:, 23]\n",
    "\n",
    "# Print the number of missing values before imputation\n",
    "print('Missing before imputation: %d' % sum(isnan(X).flatten()))\n",
    "\n",
    "# Impute missing values using mean strategy\n",
    "imputer = SimpleImputer(strategy='mean')  # # Create an imputer object with the mean imputation strategy\n",
    "# # Fit the imputer on the features (X)\n",
    "imputer.fit(X)  \n",
    "Xtrans = imputer.transform(X)  # # Transform (impute) the missing values in X using the fitted imputer\n",
    "\n",
    "# Print the number of missing values after imputation\n",
    "print('Missing after imputation: %d' % sum(isnan(Xtrans).flatten()))\n"
   ]
  },
  {
   "cell_type": "code",
   "execution_count": null,
   "id": "1ab34230",
   "metadata": {},
   "outputs": [],
   "source": []
  }
 ],
 "metadata": {
  "kernelspec": {
   "display_name": "Python 3 (ipykernel)",
   "language": "python",
   "name": "python3"
  },
  "language_info": {
   "codemirror_mode": {
    "name": "ipython",
    "version": 3
   },
   "file_extension": ".py",
   "mimetype": "text/x-python",
   "name": "python",
   "nbconvert_exporter": "python",
   "pygments_lexer": "ipython3",
   "version": "3.11.4"
  }
 },
 "nbformat": 4,
 "nbformat_minor": 5
}
